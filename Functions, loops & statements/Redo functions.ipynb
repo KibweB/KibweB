{
 "cells": [
  {
   "cell_type": "markdown",
   "metadata": {},
   "source": [
    "Function to determine days to complete a space mission, didn't work as planned in a python file"
   ]
  },
  {
   "cell_type": "code",
   "execution_count": 2,
   "metadata": {},
   "outputs": [
    {
     "data": {
      "text/plain": [
       "133"
      ]
     },
     "execution_count": 2,
     "metadata": {},
     "output_type": "execute_result"
    }
   ],
   "source": [
    "def days_to_complete(distance, speed):\n",
    "    hours = distance/speed\n",
    "    return hours/24\n",
    "total_days = days_to_complete(238855, 75)\n",
    "round(total_days)\n",
    "#round(days_to_complete(238855, 75)) rounds the same way in one line\n"
   ]
  },
  {
   "cell_type": "markdown",
   "metadata": {},
   "source": [
    "Returns the estimated time of arrival for a 51 hour space mission "
   ]
  },
  {
   "cell_type": "code",
   "execution_count": 5,
   "metadata": {},
   "outputs": [
    {
     "data": {
      "text/plain": [
       "'Skrullos Arrival: Tuesday 16:17'"
      ]
     },
     "execution_count": 5,
     "metadata": {},
     "output_type": "execute_result"
    }
   ],
   "source": [
    "from datetime import timedelta, datetime\n",
    "\n",
    "def arrival_time(destination, hours=51):\n",
    "    now = datetime.now()\n",
    "    arrival = now + timedelta(hours=hours)\n",
    "    return arrival.strftime(f\"{destination} Arrival: %A %H:%M\")\n",
    "arrival_time(\"Skrullos\", hours=.13)"
   ]
  },
  {
   "cell_type": "code",
   "execution_count": 7,
   "metadata": {},
   "outputs": [
    {
     "name": "stdout",
     "output_type": "stream",
     "text": [
      "('six ft', '7ft', 8)\n"
     ]
    }
   ],
   "source": [
    "#syntax for using variable arguments is prefixing a single (*) before the argument's name\n",
    "def variable_length(*args):\n",
    "    print(args)\n",
    "variable_length('six ft', '7ft', 8)"
   ]
  },
  {
   "cell_type": "markdown",
   "metadata": {},
   "source": [
    "Calculates how many minutes until the spaceship launches, given how long each of the 3 steps will take"
   ]
  },
  {
   "cell_type": "code",
   "execution_count": 4,
   "metadata": {},
   "outputs": [
    {
     "data": {
      "text/plain": [
       "'Total time to launch is 1.0333333333333334 hours'"
      ]
     },
     "execution_count": 4,
     "metadata": {},
     "output_type": "execute_result"
    }
   ],
   "source": [
    "def sequence_time(*args):\n",
    "    total_minutes = sum(args)\n",
    "    if total_minutes < 60:\n",
    "        return f\"Total time to launch is {total_minutes} minutes\"\n",
    "    else:\n",
    "        return f\"Total time to launch is {total_minutes/60} hours\"\n",
    "sequence_time(8,34,20)"
   ]
  },
  {
   "cell_type": "markdown",
   "metadata": {},
   "source": [
    "Variable key argument function that'll report the astronauts assigned to a mission"
   ]
  },
  {
   "cell_type": "code",
   "execution_count": 7,
   "metadata": {},
   "outputs": [
    {
     "name": "stdout",
     "output_type": "stream",
     "text": [
      "3 astronauts assigned for this mission:\n",
      "Captain: Sexton Bane\n",
      "pilot: Dereck Mims\n",
      "coPilot: Cobe Smitts\n"
     ]
    }
   ],
   "source": [
    "def crew_members(**shipper):\n",
    "    print(f\"{len(shipper)} astronauts assigned for this mission:\")\n",
    "    for title, name in shipper.items():\n",
    "        print(f\"{title}: {name}\")\n",
    "crew_members(Captain='Sexton Bane', pilot='Dereck Mims', coPilot='Cobe Smitts')  \n",
    "#don't repeat keywords like pilot or captain to avoid errors "
   ]
  }
 ],
 "metadata": {
  "kernelspec": {
   "display_name": "Python 3",
   "language": "python",
   "name": "python3"
  },
  "language_info": {
   "codemirror_mode": {
    "name": "ipython",
    "version": 3
   },
   "file_extension": ".py",
   "mimetype": "text/x-python",
   "name": "python",
   "nbconvert_exporter": "python",
   "pygments_lexer": "ipython3",
   "version": "3.11.5"
  },
  "orig_nbformat": 4
 },
 "nbformat": 4,
 "nbformat_minor": 2
}
